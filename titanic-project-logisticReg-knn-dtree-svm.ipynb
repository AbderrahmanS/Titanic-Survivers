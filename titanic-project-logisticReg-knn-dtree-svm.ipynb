{
 "cells": [
  {
   "cell_type": "code",
   "execution_count": 1,
   "id": "b8d0638f",
   "metadata": {
    "_cell_guid": "b1076dfc-b9ad-4769-8c92-a6c4dae69d19",
    "_uuid": "8f2839f25d086af736a60e9eeb907d3b93b6e0e5",
    "execution": {
     "iopub.execute_input": "2023-02-22T16:02:33.145902Z",
     "iopub.status.busy": "2023-02-22T16:02:33.145274Z",
     "iopub.status.idle": "2023-02-22T16:02:33.160524Z",
     "shell.execute_reply": "2023-02-22T16:02:33.159746Z"
    },
    "papermill": {
     "duration": 0.032106,
     "end_time": "2023-02-22T16:02:33.162984",
     "exception": false,
     "start_time": "2023-02-22T16:02:33.130878",
     "status": "completed"
    },
    "tags": []
   },
   "outputs": [
    {
     "name": "stdout",
     "output_type": "stream",
     "text": [
      "/kaggle/input/titanic/train.csv\n",
      "/kaggle/input/titanic/test.csv\n",
      "/kaggle/input/titanic/gender_submission.csv\n"
     ]
    }
   ],
   "source": [
    "# This Python 3 environment comes with many helpful analytics libraries installed\n",
    "# It is defined by the kaggle/python Docker image: https://github.com/kaggle/docker-python\n",
    "# For example, here's several helpful packages to load\n",
    "\n",
    "import numpy as np # linear algebra\n",
    "import pandas as pd # data processing, CSV file I/O (e.g. pd.read_csv)\n",
    "\n",
    "# Input data files are available in the read-only \"../input/\" directory\n",
    "# For example, running this (by clicking run or pressing Shift+Enter) will list all files under the input directory\n",
    "\n",
    "import os\n",
    "for dirname, _, filenames in os.walk('/kaggle/input'):\n",
    "    for filename in filenames:\n",
    "        print(os.path.join(dirname, filename))\n",
    "\n",
    "# You can write up to 20GB to the current directory (/kaggle/working/) that gets preserved as output when you create a version using \"Save & Run All\" \n",
    "# You can also write temporary files to /kaggle/temp/, but they won't be saved outside of the current session"
   ]
  },
  {
   "cell_type": "markdown",
   "id": "f9f5e0e1",
   "metadata": {
    "papermill": {
     "duration": 0.008076,
     "end_time": "2023-02-22T16:02:33.179707",
     "exception": false,
     "start_time": "2023-02-22T16:02:33.171631",
     "status": "completed"
    },
    "tags": []
   },
   "source": [
    "# Load data"
   ]
  },
  {
   "cell_type": "code",
   "execution_count": 2,
   "id": "5b84b462",
   "metadata": {
    "execution": {
     "iopub.execute_input": "2023-02-22T16:02:33.197984Z",
     "iopub.status.busy": "2023-02-22T16:02:33.197567Z",
     "iopub.status.idle": "2023-02-22T16:02:33.237977Z",
     "shell.execute_reply": "2023-02-22T16:02:33.236744Z"
    },
    "papermill": {
     "duration": 0.052717,
     "end_time": "2023-02-22T16:02:33.240699",
     "exception": false,
     "start_time": "2023-02-22T16:02:33.187982",
     "status": "completed"
    },
    "tags": []
   },
   "outputs": [
    {
     "data": {
      "text/html": [
       "<div>\n",
       "<style scoped>\n",
       "    .dataframe tbody tr th:only-of-type {\n",
       "        vertical-align: middle;\n",
       "    }\n",
       "\n",
       "    .dataframe tbody tr th {\n",
       "        vertical-align: top;\n",
       "    }\n",
       "\n",
       "    .dataframe thead th {\n",
       "        text-align: right;\n",
       "    }\n",
       "</style>\n",
       "<table border=\"1\" class=\"dataframe\">\n",
       "  <thead>\n",
       "    <tr style=\"text-align: right;\">\n",
       "      <th></th>\n",
       "      <th>PassengerId</th>\n",
       "      <th>Survived</th>\n",
       "      <th>Pclass</th>\n",
       "      <th>Name</th>\n",
       "      <th>Sex</th>\n",
       "      <th>Age</th>\n",
       "      <th>SibSp</th>\n",
       "      <th>Parch</th>\n",
       "      <th>Ticket</th>\n",
       "      <th>Fare</th>\n",
       "      <th>Cabin</th>\n",
       "      <th>Embarked</th>\n",
       "    </tr>\n",
       "  </thead>\n",
       "  <tbody>\n",
       "    <tr>\n",
       "      <th>0</th>\n",
       "      <td>1</td>\n",
       "      <td>0</td>\n",
       "      <td>3</td>\n",
       "      <td>Braund, Mr. Owen Harris</td>\n",
       "      <td>male</td>\n",
       "      <td>22.0</td>\n",
       "      <td>1</td>\n",
       "      <td>0</td>\n",
       "      <td>A/5 21171</td>\n",
       "      <td>7.2500</td>\n",
       "      <td>NaN</td>\n",
       "      <td>S</td>\n",
       "    </tr>\n",
       "    <tr>\n",
       "      <th>1</th>\n",
       "      <td>2</td>\n",
       "      <td>1</td>\n",
       "      <td>1</td>\n",
       "      <td>Cumings, Mrs. John Bradley (Florence Briggs Th...</td>\n",
       "      <td>female</td>\n",
       "      <td>38.0</td>\n",
       "      <td>1</td>\n",
       "      <td>0</td>\n",
       "      <td>PC 17599</td>\n",
       "      <td>71.2833</td>\n",
       "      <td>C85</td>\n",
       "      <td>C</td>\n",
       "    </tr>\n",
       "    <tr>\n",
       "      <th>2</th>\n",
       "      <td>3</td>\n",
       "      <td>1</td>\n",
       "      <td>3</td>\n",
       "      <td>Heikkinen, Miss. Laina</td>\n",
       "      <td>female</td>\n",
       "      <td>26.0</td>\n",
       "      <td>0</td>\n",
       "      <td>0</td>\n",
       "      <td>STON/O2. 3101282</td>\n",
       "      <td>7.9250</td>\n",
       "      <td>NaN</td>\n",
       "      <td>S</td>\n",
       "    </tr>\n",
       "    <tr>\n",
       "      <th>3</th>\n",
       "      <td>4</td>\n",
       "      <td>1</td>\n",
       "      <td>1</td>\n",
       "      <td>Futrelle, Mrs. Jacques Heath (Lily May Peel)</td>\n",
       "      <td>female</td>\n",
       "      <td>35.0</td>\n",
       "      <td>1</td>\n",
       "      <td>0</td>\n",
       "      <td>113803</td>\n",
       "      <td>53.1000</td>\n",
       "      <td>C123</td>\n",
       "      <td>S</td>\n",
       "    </tr>\n",
       "    <tr>\n",
       "      <th>4</th>\n",
       "      <td>5</td>\n",
       "      <td>0</td>\n",
       "      <td>3</td>\n",
       "      <td>Allen, Mr. William Henry</td>\n",
       "      <td>male</td>\n",
       "      <td>35.0</td>\n",
       "      <td>0</td>\n",
       "      <td>0</td>\n",
       "      <td>373450</td>\n",
       "      <td>8.0500</td>\n",
       "      <td>NaN</td>\n",
       "      <td>S</td>\n",
       "    </tr>\n",
       "  </tbody>\n",
       "</table>\n",
       "</div>"
      ],
      "text/plain": [
       "   PassengerId  Survived  Pclass  \\\n",
       "0            1         0       3   \n",
       "1            2         1       1   \n",
       "2            3         1       3   \n",
       "3            4         1       1   \n",
       "4            5         0       3   \n",
       "\n",
       "                                                Name     Sex   Age  SibSp  \\\n",
       "0                            Braund, Mr. Owen Harris    male  22.0      1   \n",
       "1  Cumings, Mrs. John Bradley (Florence Briggs Th...  female  38.0      1   \n",
       "2                             Heikkinen, Miss. Laina  female  26.0      0   \n",
       "3       Futrelle, Mrs. Jacques Heath (Lily May Peel)  female  35.0      1   \n",
       "4                           Allen, Mr. William Henry    male  35.0      0   \n",
       "\n",
       "   Parch            Ticket     Fare Cabin Embarked  \n",
       "0      0         A/5 21171   7.2500   NaN        S  \n",
       "1      0          PC 17599  71.2833   C85        C  \n",
       "2      0  STON/O2. 3101282   7.9250   NaN        S  \n",
       "3      0            113803  53.1000  C123        S  \n",
       "4      0            373450   8.0500   NaN        S  "
      ]
     },
     "execution_count": 2,
     "metadata": {},
     "output_type": "execute_result"
    }
   ],
   "source": [
    "train_data = pd.read_csv('/kaggle/input/titanic/train.csv')\n",
    "train_data.head()"
   ]
  },
  {
   "cell_type": "code",
   "execution_count": 3,
   "id": "3d986067",
   "metadata": {
    "execution": {
     "iopub.execute_input": "2023-02-22T16:02:33.259915Z",
     "iopub.status.busy": "2023-02-22T16:02:33.259447Z",
     "iopub.status.idle": "2023-02-22T16:02:33.280823Z",
     "shell.execute_reply": "2023-02-22T16:02:33.279711Z"
    },
    "papermill": {
     "duration": 0.033811,
     "end_time": "2023-02-22T16:02:33.283317",
     "exception": false,
     "start_time": "2023-02-22T16:02:33.249506",
     "status": "completed"
    },
    "tags": []
   },
   "outputs": [
    {
     "data": {
      "text/html": [
       "<div>\n",
       "<style scoped>\n",
       "    .dataframe tbody tr th:only-of-type {\n",
       "        vertical-align: middle;\n",
       "    }\n",
       "\n",
       "    .dataframe tbody tr th {\n",
       "        vertical-align: top;\n",
       "    }\n",
       "\n",
       "    .dataframe thead th {\n",
       "        text-align: right;\n",
       "    }\n",
       "</style>\n",
       "<table border=\"1\" class=\"dataframe\">\n",
       "  <thead>\n",
       "    <tr style=\"text-align: right;\">\n",
       "      <th></th>\n",
       "      <th>PassengerId</th>\n",
       "      <th>Pclass</th>\n",
       "      <th>Name</th>\n",
       "      <th>Sex</th>\n",
       "      <th>Age</th>\n",
       "      <th>SibSp</th>\n",
       "      <th>Parch</th>\n",
       "      <th>Ticket</th>\n",
       "      <th>Fare</th>\n",
       "      <th>Cabin</th>\n",
       "      <th>Embarked</th>\n",
       "    </tr>\n",
       "  </thead>\n",
       "  <tbody>\n",
       "    <tr>\n",
       "      <th>0</th>\n",
       "      <td>892</td>\n",
       "      <td>3</td>\n",
       "      <td>Kelly, Mr. James</td>\n",
       "      <td>male</td>\n",
       "      <td>34.5</td>\n",
       "      <td>0</td>\n",
       "      <td>0</td>\n",
       "      <td>330911</td>\n",
       "      <td>7.8292</td>\n",
       "      <td>NaN</td>\n",
       "      <td>Q</td>\n",
       "    </tr>\n",
       "    <tr>\n",
       "      <th>1</th>\n",
       "      <td>893</td>\n",
       "      <td>3</td>\n",
       "      <td>Wilkes, Mrs. James (Ellen Needs)</td>\n",
       "      <td>female</td>\n",
       "      <td>47.0</td>\n",
       "      <td>1</td>\n",
       "      <td>0</td>\n",
       "      <td>363272</td>\n",
       "      <td>7.0000</td>\n",
       "      <td>NaN</td>\n",
       "      <td>S</td>\n",
       "    </tr>\n",
       "    <tr>\n",
       "      <th>2</th>\n",
       "      <td>894</td>\n",
       "      <td>2</td>\n",
       "      <td>Myles, Mr. Thomas Francis</td>\n",
       "      <td>male</td>\n",
       "      <td>62.0</td>\n",
       "      <td>0</td>\n",
       "      <td>0</td>\n",
       "      <td>240276</td>\n",
       "      <td>9.6875</td>\n",
       "      <td>NaN</td>\n",
       "      <td>Q</td>\n",
       "    </tr>\n",
       "    <tr>\n",
       "      <th>3</th>\n",
       "      <td>895</td>\n",
       "      <td>3</td>\n",
       "      <td>Wirz, Mr. Albert</td>\n",
       "      <td>male</td>\n",
       "      <td>27.0</td>\n",
       "      <td>0</td>\n",
       "      <td>0</td>\n",
       "      <td>315154</td>\n",
       "      <td>8.6625</td>\n",
       "      <td>NaN</td>\n",
       "      <td>S</td>\n",
       "    </tr>\n",
       "    <tr>\n",
       "      <th>4</th>\n",
       "      <td>896</td>\n",
       "      <td>3</td>\n",
       "      <td>Hirvonen, Mrs. Alexander (Helga E Lindqvist)</td>\n",
       "      <td>female</td>\n",
       "      <td>22.0</td>\n",
       "      <td>1</td>\n",
       "      <td>1</td>\n",
       "      <td>3101298</td>\n",
       "      <td>12.2875</td>\n",
       "      <td>NaN</td>\n",
       "      <td>S</td>\n",
       "    </tr>\n",
       "  </tbody>\n",
       "</table>\n",
       "</div>"
      ],
      "text/plain": [
       "   PassengerId  Pclass                                          Name     Sex  \\\n",
       "0          892       3                              Kelly, Mr. James    male   \n",
       "1          893       3              Wilkes, Mrs. James (Ellen Needs)  female   \n",
       "2          894       2                     Myles, Mr. Thomas Francis    male   \n",
       "3          895       3                              Wirz, Mr. Albert    male   \n",
       "4          896       3  Hirvonen, Mrs. Alexander (Helga E Lindqvist)  female   \n",
       "\n",
       "    Age  SibSp  Parch   Ticket     Fare Cabin Embarked  \n",
       "0  34.5      0      0   330911   7.8292   NaN        Q  \n",
       "1  47.0      1      0   363272   7.0000   NaN        S  \n",
       "2  62.0      0      0   240276   9.6875   NaN        Q  \n",
       "3  27.0      0      0   315154   8.6625   NaN        S  \n",
       "4  22.0      1      1  3101298  12.2875   NaN        S  "
      ]
     },
     "execution_count": 3,
     "metadata": {},
     "output_type": "execute_result"
    }
   ],
   "source": [
    "test_data = pd.read_csv('/kaggle/input/titanic/test.csv')\n",
    "test_data.head()"
   ]
  },
  {
   "cell_type": "markdown",
   "id": "8497d708",
   "metadata": {
    "papermill": {
     "duration": 0.008629,
     "end_time": "2023-02-22T16:02:33.301067",
     "exception": false,
     "start_time": "2023-02-22T16:02:33.292438",
     "status": "completed"
    },
    "tags": []
   },
   "source": [
    "# Exploring data"
   ]
  },
  {
   "cell_type": "code",
   "execution_count": 4,
   "id": "f23e8120",
   "metadata": {
    "execution": {
     "iopub.execute_input": "2023-02-22T16:02:33.320375Z",
     "iopub.status.busy": "2023-02-22T16:02:33.319993Z",
     "iopub.status.idle": "2023-02-22T16:02:33.333639Z",
     "shell.execute_reply": "2023-02-22T16:02:33.332799Z"
    },
    "papermill": {
     "duration": 0.025885,
     "end_time": "2023-02-22T16:02:33.335889",
     "exception": false,
     "start_time": "2023-02-22T16:02:33.310004",
     "status": "completed"
    },
    "tags": []
   },
   "outputs": [
    {
     "data": {
      "text/plain": [
       "0    549\n",
       "1    342\n",
       "Name: Survived, dtype: int64"
      ]
     },
     "execution_count": 4,
     "metadata": {},
     "output_type": "execute_result"
    }
   ],
   "source": [
    "train_data['Survived'].value_counts()"
   ]
  },
  {
   "cell_type": "markdown",
   "id": "e2a3bd96",
   "metadata": {
    "papermill": {
     "duration": 0.008667,
     "end_time": "2023-02-22T16:02:33.353427",
     "exception": false,
     "start_time": "2023-02-22T16:02:33.344760",
     "status": "completed"
    },
    "tags": []
   },
   "source": [
    "## split our data"
   ]
  },
  {
   "cell_type": "code",
   "execution_count": 5,
   "id": "e8d28719",
   "metadata": {
    "execution": {
     "iopub.execute_input": "2023-02-22T16:02:33.373286Z",
     "iopub.status.busy": "2023-02-22T16:02:33.372887Z",
     "iopub.status.idle": "2023-02-22T16:02:34.329266Z",
     "shell.execute_reply": "2023-02-22T16:02:34.328102Z"
    },
    "papermill": {
     "duration": 0.970237,
     "end_time": "2023-02-22T16:02:34.332846",
     "exception": false,
     "start_time": "2023-02-22T16:02:33.362609",
     "status": "completed"
    },
    "tags": []
   },
   "outputs": [
    {
     "data": {
      "text/plain": [
       "array([[3, 'male', 1, 0],\n",
       "       [1, 'female', 1, 0],\n",
       "       [3, 'female', 0, 0],\n",
       "       [1, 'female', 1, 0],\n",
       "       [3, 'male', 0, 0]], dtype=object)"
      ]
     },
     "execution_count": 5,
     "metadata": {},
     "output_type": "execute_result"
    }
   ],
   "source": [
    "from sklearn.model_selection import train_test_split\n",
    "\n",
    "features = [\"Pclass\",\"Sex\",\"SibSp\",\"Parch\"]\n",
    "X = train_data[features].values\n",
    "X_test = test_data[features].values\n",
    "X[:5]"
   ]
  },
  {
   "cell_type": "code",
   "execution_count": 6,
   "id": "6f4f55a7",
   "metadata": {
    "execution": {
     "iopub.execute_input": "2023-02-22T16:02:34.354269Z",
     "iopub.status.busy": "2023-02-22T16:02:34.353891Z",
     "iopub.status.idle": "2023-02-22T16:02:34.361590Z",
     "shell.execute_reply": "2023-02-22T16:02:34.360581Z"
    },
    "papermill": {
     "duration": 0.02041,
     "end_time": "2023-02-22T16:02:34.363668",
     "exception": false,
     "start_time": "2023-02-22T16:02:34.343258",
     "status": "completed"
    },
    "tags": []
   },
   "outputs": [
    {
     "data": {
      "text/plain": [
       "0    0\n",
       "1    1\n",
       "2    1\n",
       "3    1\n",
       "4    0\n",
       "Name: Survived, dtype: int64"
      ]
     },
     "execution_count": 6,
     "metadata": {},
     "output_type": "execute_result"
    }
   ],
   "source": [
    "y = train_data['Survived']\n",
    "y[:5]"
   ]
  },
  {
   "cell_type": "markdown",
   "id": "c0c9fed9",
   "metadata": {
    "papermill": {
     "duration": 0.009156,
     "end_time": "2023-02-22T16:02:34.381911",
     "exception": false,
     "start_time": "2023-02-22T16:02:34.372755",
     "status": "completed"
    },
    "tags": []
   },
   "source": [
    "## transform Sex to be in numeric value"
   ]
  },
  {
   "cell_type": "code",
   "execution_count": 7,
   "id": "5360fbe0",
   "metadata": {
    "execution": {
     "iopub.execute_input": "2023-02-22T16:02:34.401929Z",
     "iopub.status.busy": "2023-02-22T16:02:34.401307Z",
     "iopub.status.idle": "2023-02-22T16:02:34.407112Z",
     "shell.execute_reply": "2023-02-22T16:02:34.406348Z"
    },
    "papermill": {
     "duration": 0.018334,
     "end_time": "2023-02-22T16:02:34.409190",
     "exception": false,
     "start_time": "2023-02-22T16:02:34.390856",
     "status": "completed"
    },
    "tags": []
   },
   "outputs": [],
   "source": [
    "from sklearn import preprocessing\n",
    "le_sex = preprocessing.LabelEncoder()\n",
    "le_sex.fit(['male','female'])\n",
    "X[:,1] = le_sex.transform(X[:,1])\n",
    "X_test[:,1] = le_sex.transform(X_test[:,1]) "
   ]
  },
  {
   "cell_type": "code",
   "execution_count": 8,
   "id": "98e6461a",
   "metadata": {
    "execution": {
     "iopub.execute_input": "2023-02-22T16:02:34.428939Z",
     "iopub.status.busy": "2023-02-22T16:02:34.428310Z",
     "iopub.status.idle": "2023-02-22T16:02:34.435184Z",
     "shell.execute_reply": "2023-02-22T16:02:34.434444Z"
    },
    "papermill": {
     "duration": 0.019192,
     "end_time": "2023-02-22T16:02:34.437243",
     "exception": false,
     "start_time": "2023-02-22T16:02:34.418051",
     "status": "completed"
    },
    "tags": []
   },
   "outputs": [],
   "source": [
    "x_train,x_test,y_train,y_test = train_test_split(X,y,test_size=0.3 , random_state = 4)"
   ]
  },
  {
   "cell_type": "markdown",
   "id": "f84d4368",
   "metadata": {
    "papermill": {
     "duration": 0.008958,
     "end_time": "2023-02-22T16:02:34.455168",
     "exception": false,
     "start_time": "2023-02-22T16:02:34.446210",
     "status": "completed"
    },
    "tags": []
   },
   "source": [
    "# Using K nearest Neighbors for prediction"
   ]
  },
  {
   "cell_type": "code",
   "execution_count": 9,
   "id": "2e1e978f",
   "metadata": {
    "execution": {
     "iopub.execute_input": "2023-02-22T16:02:34.477035Z",
     "iopub.status.busy": "2023-02-22T16:02:34.476164Z",
     "iopub.status.idle": "2023-02-22T16:02:34.688779Z",
     "shell.execute_reply": "2023-02-22T16:02:34.687627Z"
    },
    "papermill": {
     "duration": 0.22715,
     "end_time": "2023-02-22T16:02:34.691126",
     "exception": false,
     "start_time": "2023-02-22T16:02:34.463976",
     "status": "completed"
    },
    "tags": []
   },
   "outputs": [
    {
     "data": {
      "text/plain": [
       "array([0.79850746, 0.81716418, 0.81716418, 0.82835821, 0.81716418,\n",
       "       0.81716418, 0.80597015, 0.78358209, 0.78731343])"
      ]
     },
     "execution_count": 9,
     "metadata": {},
     "output_type": "execute_result"
    }
   ],
   "source": [
    "from sklearn.neighbors import KNeighborsClassifier\n",
    "from sklearn.metrics import accuracy_score\n",
    "\n",
    "ks = 10\n",
    "mean_acc = np.zeros((ks-1))\n",
    "for i in range(1,ks) :\n",
    "    neigh = KNeighborsClassifier(n_neighbors = i).fit(x_train , y_train) \n",
    "    predict = neigh.predict(x_test)\n",
    "    mean_acc[i-1] =  accuracy_score(y_test , predict)\n",
    "\n",
    "mean_acc"
   ]
  },
  {
   "cell_type": "code",
   "execution_count": 10,
   "id": "1e7d0cbd",
   "metadata": {
    "execution": {
     "iopub.execute_input": "2023-02-22T16:02:34.711802Z",
     "iopub.status.busy": "2023-02-22T16:02:34.711126Z",
     "iopub.status.idle": "2023-02-22T16:02:34.717590Z",
     "shell.execute_reply": "2023-02-22T16:02:34.716341Z"
    },
    "papermill": {
     "duration": 0.020162,
     "end_time": "2023-02-22T16:02:34.720634",
     "exception": false,
     "start_time": "2023-02-22T16:02:34.700472",
     "status": "completed"
    },
    "tags": []
   },
   "outputs": [
    {
     "name": "stdout",
     "output_type": "stream",
     "text": [
      "The best accuracy was with  0.8283582089552238  with k =  4\n"
     ]
    }
   ],
   "source": [
    "print(\"The best accuracy was with \",mean_acc.max() , \" with k = \" , mean_acc.argmax()+1)"
   ]
  },
  {
   "cell_type": "markdown",
   "id": "76e0ada2",
   "metadata": {
    "papermill": {
     "duration": 0.00874,
     "end_time": "2023-02-22T16:02:34.739314",
     "exception": false,
     "start_time": "2023-02-22T16:02:34.730574",
     "status": "completed"
    },
    "tags": []
   },
   "source": [
    "# Using Decision tree for prediction"
   ]
  },
  {
   "cell_type": "code",
   "execution_count": 11,
   "id": "ef382d7f",
   "metadata": {
    "execution": {
     "iopub.execute_input": "2023-02-22T16:02:34.760968Z",
     "iopub.status.busy": "2023-02-22T16:02:34.760412Z",
     "iopub.status.idle": "2023-02-22T16:02:34.798006Z",
     "shell.execute_reply": "2023-02-22T16:02:34.796082Z"
    },
    "papermill": {
     "duration": 0.052451,
     "end_time": "2023-02-22T16:02:34.801222",
     "exception": false,
     "start_time": "2023-02-22T16:02:34.748771",
     "status": "completed"
    },
    "tags": []
   },
   "outputs": [
    {
     "data": {
      "text/plain": [
       "DecisionTreeClassifier(criterion='entropy', max_depth=4)"
      ]
     },
     "execution_count": 11,
     "metadata": {},
     "output_type": "execute_result"
    }
   ],
   "source": [
    "from sklearn.tree import DecisionTreeClassifier\n",
    "\n",
    "titanicTree =  DecisionTreeClassifier(criterion = \"entropy\" , max_depth = 4)\n",
    "titanicTree"
   ]
  },
  {
   "cell_type": "code",
   "execution_count": 12,
   "id": "61bebfea",
   "metadata": {
    "execution": {
     "iopub.execute_input": "2023-02-22T16:02:34.823848Z",
     "iopub.status.busy": "2023-02-22T16:02:34.822469Z",
     "iopub.status.idle": "2023-02-22T16:02:34.831472Z",
     "shell.execute_reply": "2023-02-22T16:02:34.830609Z"
    },
    "papermill": {
     "duration": 0.022263,
     "end_time": "2023-02-22T16:02:34.834112",
     "exception": false,
     "start_time": "2023-02-22T16:02:34.811849",
     "status": "completed"
    },
    "tags": []
   },
   "outputs": [],
   "source": [
    "titanicTree.fit(x_train , y_train)\n",
    "predTree = titanicTree.predict(x_test)"
   ]
  },
  {
   "cell_type": "markdown",
   "id": "8dd4ac6f",
   "metadata": {
    "papermill": {
     "duration": 0.008875,
     "end_time": "2023-02-22T16:02:34.852466",
     "exception": false,
     "start_time": "2023-02-22T16:02:34.843591",
     "status": "completed"
    },
    "tags": []
   },
   "source": [
    "## Compare the prediction with the actual value "
   ]
  },
  {
   "cell_type": "code",
   "execution_count": 13,
   "id": "8ba22d68",
   "metadata": {
    "execution": {
     "iopub.execute_input": "2023-02-22T16:02:34.874865Z",
     "iopub.status.busy": "2023-02-22T16:02:34.874173Z",
     "iopub.status.idle": "2023-02-22T16:02:34.881429Z",
     "shell.execute_reply": "2023-02-22T16:02:34.880146Z"
    },
    "papermill": {
     "duration": 0.021241,
     "end_time": "2023-02-22T16:02:34.883867",
     "exception": false,
     "start_time": "2023-02-22T16:02:34.862626",
     "status": "completed"
    },
    "tags": []
   },
   "outputs": [
    {
     "name": "stdout",
     "output_type": "stream",
     "text": [
      "[0 0 1 1 0]\n",
      "646    0\n",
      "876    0\n",
      "359    1\n",
      "194    1\n",
      "819    0\n",
      "Name: Survived, dtype: int64\n"
     ]
    }
   ],
   "source": [
    "print(predTree[:5])\n",
    "print(y_test[:5])"
   ]
  },
  {
   "cell_type": "markdown",
   "id": "54e86a90",
   "metadata": {
    "papermill": {
     "duration": 0.008995,
     "end_time": "2023-02-22T16:02:34.902263",
     "exception": false,
     "start_time": "2023-02-22T16:02:34.893268",
     "status": "completed"
    },
    "tags": []
   },
   "source": [
    "# Evaluation"
   ]
  },
  {
   "cell_type": "code",
   "execution_count": 14,
   "id": "b50cedca",
   "metadata": {
    "execution": {
     "iopub.execute_input": "2023-02-22T16:02:34.923338Z",
     "iopub.status.busy": "2023-02-22T16:02:34.922949Z",
     "iopub.status.idle": "2023-02-22T16:02:34.929784Z",
     "shell.execute_reply": "2023-02-22T16:02:34.928574Z"
    },
    "papermill": {
     "duration": 0.0199,
     "end_time": "2023-02-22T16:02:34.931988",
     "exception": false,
     "start_time": "2023-02-22T16:02:34.912088",
     "status": "completed"
    },
    "tags": []
   },
   "outputs": [
    {
     "name": "stdout",
     "output_type": "stream",
     "text": [
      "Decision tree accuracy :  0.8208955223880597\n"
     ]
    }
   ],
   "source": [
    "print(\"Decision tree accuracy : \" , accuracy_score(y_test , predTree))"
   ]
  },
  {
   "cell_type": "markdown",
   "id": "6b04e6ea",
   "metadata": {
    "papermill": {
     "duration": 0.008908,
     "end_time": "2023-02-22T16:02:34.950295",
     "exception": false,
     "start_time": "2023-02-22T16:02:34.941387",
     "status": "completed"
    },
    "tags": []
   },
   "source": [
    "## Visualization"
   ]
  },
  {
   "cell_type": "code",
   "execution_count": 15,
   "id": "52c34cc9",
   "metadata": {
    "execution": {
     "iopub.execute_input": "2023-02-22T16:02:34.970872Z",
     "iopub.status.busy": "2023-02-22T16:02:34.970200Z",
     "iopub.status.idle": "2023-02-22T16:02:36.415134Z",
     "shell.execute_reply": "2023-02-22T16:02:36.413994Z"
    },
    "papermill": {
     "duration": 1.458278,
     "end_time": "2023-02-22T16:02:36.417929",
     "exception": false,
     "start_time": "2023-02-22T16:02:34.959651",
     "status": "completed"
    },
    "tags": []
   },
   "outputs": [
    {
     "data": {
      "image/png": "[encoded data removed]",
      "text/plain": [
       "<Figure size 640x480 with 1 Axes>"
      ]
     },
     "metadata": {},
     "output_type": "display_data"
    }
   ],
   "source": [
    "import sklearn.tree as tree\n",
    "import matplotlib.pyplot as plt\n",
    "\n",
    "tree.plot_tree(titanicTree)\n",
    "plt.show()"
   ]
  },
  {
   "cell_type": "markdown",
   "id": "9a14489c",
   "metadata": {
    "papermill": {
     "duration": 0.00969,
     "end_time": "2023-02-22T16:02:36.437652",
     "exception": false,
     "start_time": "2023-02-22T16:02:36.427962",
     "status": "completed"
    },
    "tags": []
   },
   "source": [
    "# Using Logistic regression for Prediction"
   ]
  },
  {
   "cell_type": "code",
   "execution_count": 16,
   "id": "64fdba2f",
   "metadata": {
    "execution": {
     "iopub.execute_input": "2023-02-22T16:02:36.459420Z",
     "iopub.status.busy": "2023-02-22T16:02:36.459028Z",
     "iopub.status.idle": "2023-02-22T16:02:36.473717Z",
     "shell.execute_reply": "2023-02-22T16:02:36.471997Z"
    },
    "papermill": {
     "duration": 0.02895,
     "end_time": "2023-02-22T16:02:36.476480",
     "exception": false,
     "start_time": "2023-02-22T16:02:36.447530",
     "status": "completed"
    },
    "tags": []
   },
   "outputs": [
    {
     "data": {
      "text/plain": [
       "LogisticRegression(C=0.1)"
      ]
     },
     "execution_count": 16,
     "metadata": {},
     "output_type": "execute_result"
    }
   ],
   "source": [
    "from sklearn.linear_model import LogisticRegression\n",
    "\n",
    "LR = LogisticRegression(C=0.1 , solver = 'lbfgs').fit(x_train , y_train)\n",
    "LR"
   ]
  },
  {
   "cell_type": "code",
   "execution_count": 17,
   "id": "1d541d48",
   "metadata": {
    "execution": {
     "iopub.execute_input": "2023-02-22T16:02:36.501728Z",
     "iopub.status.busy": "2023-02-22T16:02:36.501280Z",
     "iopub.status.idle": "2023-02-22T16:02:36.506105Z",
     "shell.execute_reply": "2023-02-22T16:02:36.505308Z"
    },
    "papermill": {
     "duration": 0.019005,
     "end_time": "2023-02-22T16:02:36.508744",
     "exception": false,
     "start_time": "2023-02-22T16:02:36.489739",
     "status": "completed"
    },
    "tags": []
   },
   "outputs": [],
   "source": [
    "predLR = LR.predict(x_test)"
   ]
  },
  {
   "cell_type": "markdown",
   "id": "8d67465c",
   "metadata": {
    "papermill": {
     "duration": 0.015158,
     "end_time": "2023-02-22T16:02:36.538496",
     "exception": false,
     "start_time": "2023-02-22T16:02:36.523338",
     "status": "completed"
    },
    "tags": []
   },
   "source": [
    "## Compare the prediction with the actual value "
   ]
  },
  {
   "cell_type": "code",
   "execution_count": 18,
   "id": "3e17a40d",
   "metadata": {
    "execution": {
     "iopub.execute_input": "2023-02-22T16:02:36.565736Z",
     "iopub.status.busy": "2023-02-22T16:02:36.564877Z",
     "iopub.status.idle": "2023-02-22T16:02:36.572524Z",
     "shell.execute_reply": "2023-02-22T16:02:36.571712Z"
    },
    "papermill": {
     "duration": 0.024629,
     "end_time": "2023-02-22T16:02:36.576093",
     "exception": false,
     "start_time": "2023-02-22T16:02:36.551464",
     "status": "completed"
    },
    "tags": []
   },
   "outputs": [
    {
     "name": "stdout",
     "output_type": "stream",
     "text": [
      "[0 0 1 1 0]\n",
      "646    0\n",
      "876    0\n",
      "359    1\n",
      "194    1\n",
      "819    0\n",
      "Name: Survived, dtype: int64\n"
     ]
    }
   ],
   "source": [
    "print(predLR[:5])\n",
    "print(y_test[:5])"
   ]
  },
  {
   "cell_type": "markdown",
   "id": "027c2f41",
   "metadata": {
    "papermill": {
     "duration": 0.009591,
     "end_time": "2023-02-22T16:02:36.596658",
     "exception": false,
     "start_time": "2023-02-22T16:02:36.587067",
     "status": "completed"
    },
    "tags": []
   },
   "source": [
    "# Evaluation"
   ]
  },
  {
   "cell_type": "code",
   "execution_count": 19,
   "id": "1505ac40",
   "metadata": {
    "execution": {
     "iopub.execute_input": "2023-02-22T16:02:36.618731Z",
     "iopub.status.busy": "2023-02-22T16:02:36.617568Z",
     "iopub.status.idle": "2023-02-22T16:02:36.625104Z",
     "shell.execute_reply": "2023-02-22T16:02:36.623734Z"
    },
    "papermill": {
     "duration": 0.020752,
     "end_time": "2023-02-22T16:02:36.627327",
     "exception": false,
     "start_time": "2023-02-22T16:02:36.606575",
     "status": "completed"
    },
    "tags": []
   },
   "outputs": [
    {
     "name": "stdout",
     "output_type": "stream",
     "text": [
      "Logistic regression Accuracy :  0.8432835820895522\n"
     ]
    }
   ],
   "source": [
    "print(\"Logistic regression Accuracy : \" , accuracy_score(y_test , predLR))"
   ]
  },
  {
   "cell_type": "markdown",
   "id": "7842b21b",
   "metadata": {
    "papermill": {
     "duration": 0.009669,
     "end_time": "2023-02-22T16:02:36.647108",
     "exception": false,
     "start_time": "2023-02-22T16:02:36.637439",
     "status": "completed"
    },
    "tags": []
   },
   "source": [
    "# Using SVM for prediction"
   ]
  },
  {
   "cell_type": "code",
   "execution_count": 20,
   "id": "8d13b1bf",
   "metadata": {
    "execution": {
     "iopub.execute_input": "2023-02-22T16:02:36.668912Z",
     "iopub.status.busy": "2023-02-22T16:02:36.668457Z",
     "iopub.status.idle": "2023-02-22T16:02:36.689811Z",
     "shell.execute_reply": "2023-02-22T16:02:36.688921Z"
    },
    "papermill": {
     "duration": 0.034783,
     "end_time": "2023-02-22T16:02:36.691975",
     "exception": false,
     "start_time": "2023-02-22T16:02:36.657192",
     "status": "completed"
    },
    "tags": []
   },
   "outputs": [
    {
     "data": {
      "text/plain": [
       "SVC()"
      ]
     },
     "execution_count": 20,
     "metadata": {},
     "output_type": "execute_result"
    }
   ],
   "source": [
    "from sklearn.svm import SVC\n",
    "\n",
    "titanicSVM = SVC(kernel=\"rbf\").fit(x_train , y_train)\n",
    "titanicSVM"
   ]
  },
  {
   "cell_type": "code",
   "execution_count": 21,
   "id": "b70528bf",
   "metadata": {
    "execution": {
     "iopub.execute_input": "2023-02-22T16:02:36.714692Z",
     "iopub.status.busy": "2023-02-22T16:02:36.713832Z",
     "iopub.status.idle": "2023-02-22T16:02:36.724569Z",
     "shell.execute_reply": "2023-02-22T16:02:36.723560Z"
    },
    "papermill": {
     "duration": 0.024752,
     "end_time": "2023-02-22T16:02:36.727202",
     "exception": false,
     "start_time": "2023-02-22T16:02:36.702450",
     "status": "completed"
    },
    "tags": []
   },
   "outputs": [],
   "source": [
    "predSVM = titanicSVM.predict(x_test)"
   ]
  },
  {
   "cell_type": "code",
   "execution_count": 22,
   "id": "4f9df0f3",
   "metadata": {
    "execution": {
     "iopub.execute_input": "2023-02-22T16:02:36.749471Z",
     "iopub.status.busy": "2023-02-22T16:02:36.749095Z",
     "iopub.status.idle": "2023-02-22T16:02:36.755142Z",
     "shell.execute_reply": "2023-02-22T16:02:36.754035Z"
    },
    "papermill": {
     "duration": 0.020416,
     "end_time": "2023-02-22T16:02:36.757933",
     "exception": false,
     "start_time": "2023-02-22T16:02:36.737517",
     "status": "completed"
    },
    "tags": []
   },
   "outputs": [
    {
     "name": "stdout",
     "output_type": "stream",
     "text": [
      "SVM accuracy : 0.835820895522388\n"
     ]
    }
   ],
   "source": [
    "print(\"SVM accuracy :\" , accuracy_score(y_test , predSVM))"
   ]
  },
  {
   "cell_type": "markdown",
   "id": "8706b21a",
   "metadata": {
    "papermill": {
     "duration": 0.009847,
     "end_time": "2023-02-22T16:02:36.778232",
     "exception": false,
     "start_time": "2023-02-22T16:02:36.768385",
     "status": "completed"
    },
    "tags": []
   },
   "source": [
    "# Conclusion"
   ]
  },
  {
   "cell_type": "markdown",
   "id": "e5c0d463",
   "metadata": {
    "papermill": {
     "duration": 0.009759,
     "end_time": "2023-02-22T16:02:36.798098",
     "exception": false,
     "start_time": "2023-02-22T16:02:36.788339",
     "status": "completed"
    },
    "tags": []
   },
   "source": [
    "### the model that has the highest accuracy is Logistic regression with 0.8432835820895522"
   ]
  },
  {
   "cell_type": "code",
   "execution_count": 23,
   "id": "4e36aff4",
   "metadata": {
    "execution": {
     "iopub.execute_input": "2023-02-22T16:02:36.820291Z",
     "iopub.status.busy": "2023-02-22T16:02:36.819897Z",
     "iopub.status.idle": "2023-02-22T16:02:36.831296Z",
     "shell.execute_reply": "2023-02-22T16:02:36.829887Z"
    },
    "papermill": {
     "duration": 0.025605,
     "end_time": "2023-02-22T16:02:36.833852",
     "exception": false,
     "start_time": "2023-02-22T16:02:36.808247",
     "status": "completed"
    },
    "tags": []
   },
   "outputs": [
    {
     "name": "stdout",
     "output_type": "stream",
     "text": [
      "Your submission was successfully saved!\n"
     ]
    }
   ],
   "source": [
    "predictions = LR.predict(X_test)\n",
    "\n",
    "output = pd.DataFrame({'PassengerId': test_data.PassengerId, 'Survived': predictions})\n",
    "output.to_csv('submission.csv', index=False)\n",
    "print(\"Your submission was successfully saved!\")"
   ]
  }
 ],
 "metadata": {
  "kernelspec": {
   "display_name": "Python 3",
   "language": "python",
   "name": "python3"
  },
  "language_info": {
   "codemirror_mode": {
    "name": "ipython",
    "version": 3
   },
   "file_extension": ".py",
   "mimetype": "text/x-python",
   "name": "python",
   "nbconvert_exporter": "python",
   "pygments_lexer": "ipython3",
   "version": "3.7.12"
  },
  "papermill": {
   "default_parameters": {},
   "duration": 12.826761,
   "end_time": "2023-02-22T16:02:37.566802",
   "environment_variables": {},
   "exception": null,
   "input_path": "__notebook__.ipynb",
   "output_path": "__notebook__.ipynb",
   "parameters": {},
   "start_time": "2023-02-22T16:02:24.740041",
   "version": "2.3.4"
  }
 },
 "nbformat": 4,
 "nbformat_minor": 5
}
